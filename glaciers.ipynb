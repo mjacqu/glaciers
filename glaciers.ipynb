{
 "cells": [
  {
   "cell_type": "code",
   "execution_count": 4,
   "metadata": {},
   "outputs": [],
   "source": [
    "import numpy as np\n",
    "import matplotlib.pyplot as plt"
   ]
  },
  {
   "cell_type": "markdown",
   "metadata": {},
   "source": [
    "#### set + initialize"
   ]
  },
  {
   "cell_type": "code",
   "execution_count": 235,
   "metadata": {},
   "outputs": [],
   "source": [
    "# set\n",
    "runtime = 10000 # years\n",
    "dx = 1\n",
    "dt = 1 #year\n",
    "rho_ice = 917 # kg/m3\n",
    "A = 2.1*(10**-16)  # Arrhenius constant [mPa/yr]\n",
    "N = 3 # shape factor from Glen's Flow Law\n",
    "g = 9.81 # m/s2 gravitational acceleration\n",
    "gamma = 0.01 # mass balance gradient [(m/yr)/m]\n",
    "valley = 1500 # elevation of valley floor (minimum elevation)\n",
    "ela = 1900 # Equilibrium line altitude\n",
    "hor_dist = np.arange(0,2000,dx) # x-array\n",
    "slope= np.radians(20) # slope in degrees\n",
    "z_bedrock = valley+(2000-hor_dist)*np.tan(slope) # glacier bed\n",
    "\n",
    "#initialize\n",
    "H = np.zeros(len(hor_dist))# ice thickness array\n",
    "b = np.zeros(len(hor_dist))# mass balance array\n",
    "z_glacier = valley+(2000-hor_dist)*np.tan(slope)# glacier surface elevation array\n",
    "ice_slope = np.diff(z_glacier) # glacier surface slope array\n",
    "H_edge = np.zeros(len(ice_slope)) # ice thickness edge array\n",
    "Q = np.zeros(len(ice_slope))# ice discharge array"
   ]
  },
  {
   "cell_type": "markdown",
   "metadata": {},
   "source": [
    "#### run model"
   ]
  },
  {
   "cell_type": "code",
   "execution_count": 236,
   "metadata": {},
   "outputs": [
    {
     "name": "stderr",
     "output_type": "stream",
     "text": [
      "/Applications/anaconda3/envs/SpatialDataProgramming/lib/python2.7/site-packages/ipykernel_launcher.py:8: RuntimeWarning: overflow encountered in multiply\n",
      "  \n",
      "/Applications/anaconda3/envs/SpatialDataProgramming/lib/python2.7/site-packages/ipykernel_launcher.py:8: RuntimeWarning: overflow encountered in power\n",
      "  \n",
      "/Applications/anaconda3/envs/SpatialDataProgramming/lib/python2.7/site-packages/ipykernel_launcher.py:10: RuntimeWarning: invalid value encountered in subtract\n",
      "  # Remove the CWD from sys.path while we load stuff.\n",
      "/Applications/anaconda3/envs/SpatialDataProgramming/lib/python2.7/site-packages/ipykernel_launcher.py:4: RuntimeWarning: invalid value encountered in less\n",
      "  after removing the cwd from sys.path.\n"
     ]
    }
   ],
   "source": [
    "for i in range(runtime):\n",
    "    ice_slope = np.diff(z_glacier)/dx # calculate surface slope of ice\n",
    "    H_edge = H[1:] # ice thickness - use H from upwind cell as H_edge\n",
    "    Q = A*((rho_ice*g*(-ice_slope))**N)*((H_edge**N+2)/5) # calcultate ice flux from on cell to the next (per year)\n",
    "    dQdx = np.diff(Q)/dx # calculate gradient of ice flux across cell boundaries\n",
    "    b = gamma*(z_glacier-ela) # ice loss and gain based on elevation dependent mass balance gradient\n",
    "    dHdt = b[1:-1] - dQdx # rate of change of ice thickness\n",
    "    H[1:-1] = H[1:-1] + (dHdt/dt) #update ice thickness with newly gained or lost ice\n",
    "    H[H < 0] = 0 # prevent ice thickness from getting negative\n",
    "    z_glacier[1:-1] = H[1:-1] + z_bedrock[1:-1] # update ice elevation"
   ]
  },
  {
   "cell_type": "markdown",
   "metadata": {},
   "source": [
    "# plot"
   ]
  },
  {
   "cell_type": "code",
   "execution_count": null,
   "metadata": {},
   "outputs": [],
   "source": []
  },
  {
   "cell_type": "code",
   "execution_count": 237,
   "metadata": {},
   "outputs": [
    {
     "data": {
      "image/png": "[encoded data removed]",
      "text/plain": [
       "<matplotlib.figure.Figure at 0x1a1aeac050>"
      ]
     },
     "metadata": {},
     "output_type": "display_data"
    }
   ],
   "source": [
    "plt.figure(figsize=(20,10))\n",
    "plt.plot(hor_dist,z_bedrock,'k')\n",
    "plt.plot(hor_dist,np.ones(2000)*ela,'--',color='red')\n",
    "plt.plot(hor_dist,z_glacier,'b')\n",
    "plt.show()"
   ]
  },
  {
   "cell_type": "code",
   "execution_count": null,
   "metadata": {},
   "outputs": [],
   "source": []
  },
  {
   "cell_type": "code",
   "execution_count": null,
   "metadata": {},
   "outputs": [],
   "source": []
  }
 ],
 "metadata": {
  "kernelspec": {
   "display_name": "Python 2",
   "language": "python",
   "name": "python2"
  },
  "language_info": {
   "codemirror_mode": {
    "name": "ipython",
    "version": 2
   },
   "file_extension": ".py",
   "mimetype": "text/x-python",
   "name": "python",
   "nbconvert_exporter": "python",
   "pygments_lexer": "ipython2",
   "version": "2.7.14"
  }
 },
 "nbformat": 4,
 "nbformat_minor": 2
}
